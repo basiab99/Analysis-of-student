{
 "cells": [
  {
   "cell_type": "code",
   "execution_count": 334,
   "metadata": {},
   "outputs": [],
   "source": [
    "import pandas as pd\n",
    "from scipy.stats import f_oneway, shapiro, mannwhitneyu\n",
    "import matplotlib.pyplot as plt"
   ]
  },
  {
   "cell_type": "code",
   "execution_count": 302,
   "metadata": {},
   "outputs": [
    {
     "data": {
      "text/html": [
       "<div>\n",
       "<style scoped>\n",
       "    .dataframe tbody tr th:only-of-type {\n",
       "        vertical-align: middle;\n",
       "    }\n",
       "\n",
       "    .dataframe tbody tr th {\n",
       "        vertical-align: top;\n",
       "    }\n",
       "\n",
       "    .dataframe thead th {\n",
       "        text-align: right;\n",
       "    }\n",
       "</style>\n",
       "<table border=\"1\" class=\"dataframe\">\n",
       "  <thead>\n",
       "    <tr style=\"text-align: right;\">\n",
       "      <th></th>\n",
       "      <th>ID</th>\n",
       "      <th>M1</th>\n",
       "      <th>M2</th>\n",
       "      <th>M3</th>\n",
       "      <th>M4</th>\n",
       "      <th>M5</th>\n",
       "      <th>M6</th>\n",
       "      <th>M7</th>\n",
       "      <th>M8</th>\n",
       "      <th>M9</th>\n",
       "      <th>...</th>\n",
       "      <th>s_17</th>\n",
       "      <th>s_18</th>\n",
       "      <th>s_19</th>\n",
       "      <th>s_20</th>\n",
       "      <th>s_21</th>\n",
       "      <th>s_22</th>\n",
       "      <th>s_23</th>\n",
       "      <th>s_24</th>\n",
       "      <th>s_25</th>\n",
       "      <th>s_26</th>\n",
       "    </tr>\n",
       "  </thead>\n",
       "  <tbody>\n",
       "    <tr>\n",
       "      <th>0</th>\n",
       "      <td>1</td>\n",
       "      <td>2</td>\n",
       "      <td>22</td>\n",
       "      <td>3</td>\n",
       "      <td>1</td>\n",
       "      <td>4</td>\n",
       "      <td>1</td>\n",
       "      <td>1</td>\n",
       "      <td>1</td>\n",
       "      <td>1</td>\n",
       "      <td>...</td>\n",
       "      <td>3</td>\n",
       "      <td>2</td>\n",
       "      <td>2</td>\n",
       "      <td>3</td>\n",
       "      <td>2</td>\n",
       "      <td>5</td>\n",
       "      <td>3</td>\n",
       "      <td>5</td>\n",
       "      <td>3</td>\n",
       "      <td>3</td>\n",
       "    </tr>\n",
       "    <tr>\n",
       "      <th>1</th>\n",
       "      <td>2</td>\n",
       "      <td>2</td>\n",
       "      <td>22</td>\n",
       "      <td>3</td>\n",
       "      <td>2</td>\n",
       "      <td>5</td>\n",
       "      <td>1</td>\n",
       "      <td>1</td>\n",
       "      <td>0</td>\n",
       "      <td>0</td>\n",
       "      <td>...</td>\n",
       "      <td>1</td>\n",
       "      <td>1</td>\n",
       "      <td>4</td>\n",
       "      <td>4</td>\n",
       "      <td>5</td>\n",
       "      <td>5</td>\n",
       "      <td>1</td>\n",
       "      <td>5</td>\n",
       "      <td>5</td>\n",
       "      <td>2</td>\n",
       "    </tr>\n",
       "    <tr>\n",
       "      <th>2</th>\n",
       "      <td>3</td>\n",
       "      <td>2</td>\n",
       "      <td>22</td>\n",
       "      <td>4</td>\n",
       "      <td>1</td>\n",
       "      <td>3</td>\n",
       "      <td>1</td>\n",
       "      <td>1</td>\n",
       "      <td>0</td>\n",
       "      <td>1</td>\n",
       "      <td>...</td>\n",
       "      <td>3</td>\n",
       "      <td>3</td>\n",
       "      <td>1</td>\n",
       "      <td>5</td>\n",
       "      <td>5</td>\n",
       "      <td>5</td>\n",
       "      <td>1</td>\n",
       "      <td>5</td>\n",
       "      <td>5</td>\n",
       "      <td>4</td>\n",
       "    </tr>\n",
       "    <tr>\n",
       "      <th>3</th>\n",
       "      <td>4</td>\n",
       "      <td>2</td>\n",
       "      <td>22</td>\n",
       "      <td>3</td>\n",
       "      <td>2</td>\n",
       "      <td>4</td>\n",
       "      <td>1</td>\n",
       "      <td>1</td>\n",
       "      <td>0</td>\n",
       "      <td>1</td>\n",
       "      <td>...</td>\n",
       "      <td>5</td>\n",
       "      <td>4</td>\n",
       "      <td>3</td>\n",
       "      <td>4</td>\n",
       "      <td>4</td>\n",
       "      <td>2</td>\n",
       "      <td>2</td>\n",
       "      <td>4</td>\n",
       "      <td>2</td>\n",
       "      <td>3</td>\n",
       "    </tr>\n",
       "    <tr>\n",
       "      <th>4</th>\n",
       "      <td>5</td>\n",
       "      <td>2</td>\n",
       "      <td>23</td>\n",
       "      <td>3</td>\n",
       "      <td>1</td>\n",
       "      <td>4</td>\n",
       "      <td>1</td>\n",
       "      <td>1</td>\n",
       "      <td>1</td>\n",
       "      <td>0</td>\n",
       "      <td>...</td>\n",
       "      <td>4</td>\n",
       "      <td>1</td>\n",
       "      <td>4</td>\n",
       "      <td>5</td>\n",
       "      <td>5</td>\n",
       "      <td>5</td>\n",
       "      <td>1</td>\n",
       "      <td>2</td>\n",
       "      <td>5</td>\n",
       "      <td>5</td>\n",
       "    </tr>\n",
       "  </tbody>\n",
       "</table>\n",
       "<p>5 rows × 95 columns</p>\n",
       "</div>"
      ],
      "text/plain": [
       "   ID  M1  M2  M3  M4  M5  M6  M7  M8  M9  ...  s_17  s_18  s_19  s_20  s_21  \\\n",
       "0   1   2  22   3   1   4   1   1   1   1  ...     3     2     2     3     2   \n",
       "1   2   2  22   3   2   5   1   1   0   0  ...     1     1     4     4     5   \n",
       "2   3   2  22   4   1   3   1   1   0   1  ...     3     3     1     5     5   \n",
       "3   4   2  22   3   2   4   1   1   0   1  ...     5     4     3     4     4   \n",
       "4   5   2  23   3   1   4   1   1   1   0  ...     4     1     4     5     5   \n",
       "\n",
       "   s_22  s_23  s_24  s_25  s_26  \n",
       "0     5     3     5     3     3  \n",
       "1     5     1     5     5     2  \n",
       "2     5     1     5     5     4  \n",
       "3     2     2     4     2     3  \n",
       "4     5     1     2     5     5  \n",
       "\n",
       "[5 rows x 95 columns]"
      ]
     },
     "execution_count": 302,
     "metadata": {},
     "output_type": "execute_result"
    }
   ],
   "source": [
    "dataset = pd.read_excel(\"../Projekty/Studenci/Analysis-of-students/dataset.xlsx\")\n",
    "dataset.head()"
   ]
  },
  {
   "attachments": {},
   "cell_type": "markdown",
   "metadata": {},
   "source": [
    "# The impact of work on students' grades\n",
    "<hr>"
   ]
  },
  {
   "attachments": {},
   "cell_type": "markdown",
   "metadata": {},
   "source": [
    "<br>Dependent variable: GPA</br>\n",
    "<br>Levels of independent variable: </br>\n",
    "<li> working </li>\n",
    "<li> not working </li>\n",
    "<br>\n",
    "<br>Hypotesis: </br>\n",
    "<li>H0: there is no difference among group means </li>\n",
    "<li>H1: is that at least one group differs significantly from the overall mean of the dependent variable </li>"
   ]
  },
  {
   "cell_type": "code",
   "execution_count": 303,
   "metadata": {},
   "outputs": [
    {
     "data": {
      "text/html": [
       "<div>\n",
       "<style scoped>\n",
       "    .dataframe tbody tr th:only-of-type {\n",
       "        vertical-align: middle;\n",
       "    }\n",
       "\n",
       "    .dataframe tbody tr th {\n",
       "        vertical-align: top;\n",
       "    }\n",
       "\n",
       "    .dataframe thead th {\n",
       "        text-align: right;\n",
       "    }\n",
       "</style>\n",
       "<table border=\"1\" class=\"dataframe\">\n",
       "  <thead>\n",
       "    <tr style=\"text-align: right;\">\n",
       "      <th></th>\n",
       "      <th>pyt_2</th>\n",
       "      <th>M7</th>\n",
       "    </tr>\n",
       "  </thead>\n",
       "  <tbody>\n",
       "    <tr>\n",
       "      <th>0</th>\n",
       "      <td>4.80</td>\n",
       "      <td>1</td>\n",
       "    </tr>\n",
       "    <tr>\n",
       "      <th>1</th>\n",
       "      <td>3.92</td>\n",
       "      <td>1</td>\n",
       "    </tr>\n",
       "    <tr>\n",
       "      <th>2</th>\n",
       "      <td>4.25</td>\n",
       "      <td>1</td>\n",
       "    </tr>\n",
       "    <tr>\n",
       "      <th>3</th>\n",
       "      <td>4.50</td>\n",
       "      <td>1</td>\n",
       "    </tr>\n",
       "    <tr>\n",
       "      <th>4</th>\n",
       "      <td>4.80</td>\n",
       "      <td>1</td>\n",
       "    </tr>\n",
       "  </tbody>\n",
       "</table>\n",
       "</div>"
      ],
      "text/plain": [
       "   pyt_2  M7\n",
       "0   4.80   1\n",
       "1   3.92   1\n",
       "2   4.25   1\n",
       "3   4.50   1\n",
       "4   4.80   1"
      ]
     },
     "execution_count": 303,
     "metadata": {},
     "output_type": "execute_result"
    }
   ],
   "source": [
    "# GPA - pyt_2\n",
    "# Work - M7\n",
    "\n",
    "impact_of_work = dataset[['pyt_2', 'M7']]\n",
    "impact_of_work.head()"
   ]
  },
  {
   "cell_type": "code",
   "execution_count": 304,
   "metadata": {},
   "outputs": [],
   "source": [
    "#Creating subsets for levels of independent variable\n",
    "working = dataset.loc[dataset['M7'] == 1, 'pyt_2'].reset_index(drop=True)\n",
    "not_working= dataset.loc[dataset['M7'] == 0, 'pyt_2'].reset_index(drop=True)\n"
   ]
  },
  {
   "cell_type": "code",
   "execution_count": 338,
   "metadata": {},
   "outputs": [
    {
     "data": {
      "text/plain": [
       "count    40.000000\n",
       "mean      4.309000\n",
       "std       0.411394\n",
       "25%       4.000000\n",
       "50%       4.250000\n",
       "75%       4.712500\n",
       "Name: pyt_2, dtype: float64"
      ]
     },
     "execution_count": 338,
     "metadata": {},
     "output_type": "execute_result"
    }
   ],
   "source": [
    "working.describe().drop(['min','max'])"
   ]
  },
  {
   "cell_type": "code",
   "execution_count": 337,
   "metadata": {},
   "outputs": [
    {
     "data": {
      "text/plain": [
       "count    20.000000\n",
       "mean      4.162500\n",
       "std       0.503774\n",
       "25%       3.837500\n",
       "50%       4.150000\n",
       "75%       4.567500\n",
       "Name: pyt_2, dtype: float64"
      ]
     },
     "execution_count": 337,
     "metadata": {},
     "output_type": "execute_result"
    }
   ],
   "source": [
    "not_working.describe().drop(['min','max'])"
   ]
  },
  {
   "cell_type": "code",
   "execution_count": 307,
   "metadata": {},
   "outputs": [
    {
     "data": {
      "image/png": "[encoded data removed]",
      "text/plain": [
       "<Figure size 640x480 with 1 Axes>"
      ]
     },
     "metadata": {},
     "output_type": "display_data"
    }
   ],
   "source": [
    "#counting the number of values in specific categories\n",
    "counts = dataset['M7'].value_counts()\n",
    "\n",
    "\n",
    "#creating a piechart\n",
    "colors = ['#B7E4C7', '#7CCBA2']\n",
    "\n",
    "plt.pie(counts, labels=counts.index.map({1: 'Working', 0: 'Not working'}), colors=colors, autopct='%1.1f%%')\n",
    "plt.title('Working student Distribution')\n",
    "plt.show()"
   ]
  },
  {
   "attachments": {},
   "cell_type": "markdown",
   "metadata": {},
   "source": [
    "<h5><br> The assumptions of one-way anova are: </br></h5>\n",
    "<li>The responses for each factor level have a normal population distribution </li>\n",
    "<li>These distributions have the same variance </li>\n",
    "<li>The data are independent </li>"
   ]
  },
  {
   "attachments": {},
   "cell_type": "markdown",
   "metadata": {},
   "source": [
    "<h4 style='color:blue';>Test: Shapiro-Wilk</h4>\n",
    "Hypotheses:\n",
    "<li>H0(Accepted): Sample is from the normal distributions.(Po>0.05)</li>\n",
    "<li>H1(Rejected): Sample is not from the normal distributions.</li>\n",
    "<br>\n",
    "If p_value > 0.05 (alpha) we fail to reject the null hypothesis i.e. we do not have sufficient evidence to say that sample does not come from a normal distribution."
   ]
  },
  {
   "cell_type": "code",
   "execution_count": 308,
   "metadata": {},
   "outputs": [
    {
     "data": {
      "text/plain": [
       "ShapiroResult(statistic=0.9333128333091736, pvalue=0.020687872543931007)"
      ]
     },
     "execution_count": 308,
     "metadata": {},
     "output_type": "execute_result"
    }
   ],
   "source": [
    "#testing normal population distribution \n",
    "\n",
    "shapiro(working)"
   ]
  },
  {
   "attachments": {},
   "cell_type": "markdown",
   "metadata": {},
   "source": [
    "p_value < 0.05 therefore we reject the hypothesis of normal distribution"
   ]
  },
  {
   "cell_type": "code",
   "execution_count": 309,
   "metadata": {},
   "outputs": [
    {
     "data": {
      "text/plain": [
       "ShapiroResult(statistic=0.9411163926124573, pvalue=0.2516973614692688)"
      ]
     },
     "execution_count": 309,
     "metadata": {},
     "output_type": "execute_result"
    }
   ],
   "source": [
    "shapiro(not_working)"
   ]
  },
  {
   "attachments": {},
   "cell_type": "markdown",
   "metadata": {},
   "source": [
    "p_value > 0.05 therefore we do not reject the hypothesis of normal distribution\n",
    "\n",
    "Data are independent but as one of the level of the independent variable does not meet the assumptions we have to choose non-parametric test (we do not have to check the assumption of same variance as all of the assumptions have to be met) \n",
    "\n",
    "https://www.theopeneducator.com/doe/hypothesis-Testing-Inferential-Statistics-Analysis-of-Variance-ANOVA/Single-Population-Testing\n",
    "\n",
    "<br>\n",
    "<h4 style='color:blue';>Mann-Whitney U Test </h3>\n",
    "\n",
    "Hypotheses:\n",
    "<li>H0: two populations are equal.</li>\n",
    "<li>H1: two populations are not equal.</li>\n",
    "<br>\n",
    "\n",
    "The assumption is that data are indepedent."
   ]
  },
  {
   "cell_type": "code",
   "execution_count": 310,
   "metadata": {},
   "outputs": [
    {
     "data": {
      "text/plain": [
       "MannwhitneyuResult(statistic=478.5, pvalue=0.2209053155897489)"
      ]
     },
     "execution_count": 310,
     "metadata": {},
     "output_type": "execute_result"
    }
   ],
   "source": [
    "mannwhitneyu(working, not_working)"
   ]
  },
  {
   "attachments": {},
   "cell_type": "markdown",
   "metadata": {},
   "source": [
    "<p style='color: darkgreen;'>Since the p-value is more than 0.05 hence we would <b>not reject the null hypothesis </b>. This implies that we <u> do not have sufficient proof to say that there exists a difference in the GPA among working and not working students</u>.<p/>"
   ]
  },
  {
   "attachments": {},
   "cell_type": "markdown",
   "metadata": {},
   "source": [
    "# The impact of type of studies (full time/part time) on students' grades\n",
    "<hr>"
   ]
  },
  {
   "attachments": {},
   "cell_type": "markdown",
   "metadata": {},
   "source": [
    "<br>Dependent variable: GPA</br>\n",
    "<br>Levels of independent variable: </br>\n",
    "<li> full time studies</li>\n",
    "<li> part time studies </li>\n",
    "<br>\n",
    "<br>Hypotesis: </br>\n",
    "<li>H0: there is no difference among group means </li>\n",
    "<li>H1: is that at least one group differs significantly from the overall mean of the dependent variable </li>"
   ]
  },
  {
   "cell_type": "code",
   "execution_count": 311,
   "metadata": {},
   "outputs": [
    {
     "data": {
      "text/html": [
       "<div>\n",
       "<style scoped>\n",
       "    .dataframe tbody tr th:only-of-type {\n",
       "        vertical-align: middle;\n",
       "    }\n",
       "\n",
       "    .dataframe tbody tr th {\n",
       "        vertical-align: top;\n",
       "    }\n",
       "\n",
       "    .dataframe thead th {\n",
       "        text-align: right;\n",
       "    }\n",
       "</style>\n",
       "<table border=\"1\" class=\"dataframe\">\n",
       "  <thead>\n",
       "    <tr style=\"text-align: right;\">\n",
       "      <th></th>\n",
       "      <th>pyt_2</th>\n",
       "      <th>pyt_3</th>\n",
       "    </tr>\n",
       "  </thead>\n",
       "  <tbody>\n",
       "    <tr>\n",
       "      <th>0</th>\n",
       "      <td>4.80</td>\n",
       "      <td>2</td>\n",
       "    </tr>\n",
       "    <tr>\n",
       "      <th>1</th>\n",
       "      <td>3.92</td>\n",
       "      <td>2</td>\n",
       "    </tr>\n",
       "    <tr>\n",
       "      <th>2</th>\n",
       "      <td>4.25</td>\n",
       "      <td>2</td>\n",
       "    </tr>\n",
       "    <tr>\n",
       "      <th>3</th>\n",
       "      <td>4.50</td>\n",
       "      <td>2</td>\n",
       "    </tr>\n",
       "    <tr>\n",
       "      <th>4</th>\n",
       "      <td>4.80</td>\n",
       "      <td>2</td>\n",
       "    </tr>\n",
       "  </tbody>\n",
       "</table>\n",
       "</div>"
      ],
      "text/plain": [
       "   pyt_2  pyt_3\n",
       "0   4.80      2\n",
       "1   3.92      2\n",
       "2   4.25      2\n",
       "3   4.50      2\n",
       "4   4.80      2"
      ]
     },
     "execution_count": 311,
     "metadata": {},
     "output_type": "execute_result"
    }
   ],
   "source": [
    "# GPA - pyt_2\n",
    "# Type od studies - pyt_3\n",
    "\n",
    "impact_of_studies = dataset[['pyt_2', 'pyt_3']]\n",
    "impact_of_studies.head()"
   ]
  },
  {
   "cell_type": "code",
   "execution_count": 312,
   "metadata": {},
   "outputs": [],
   "source": [
    "#Creating subsets for levels of independent variable\n",
    "full_time = dataset.loc[dataset['pyt_3'] == 1, 'pyt_2'].reset_index(drop=True)\n",
    "part_time= dataset.loc[dataset['pyt_3'] == 2, 'pyt_2'].reset_index(drop=True)"
   ]
  },
  {
   "cell_type": "code",
   "execution_count": 339,
   "metadata": {},
   "outputs": [
    {
     "data": {
      "text/plain": [
       "count    37.000000\n",
       "mean      4.131351\n",
       "std       0.462446\n",
       "25%       3.850000\n",
       "50%       4.150000\n",
       "75%       4.500000\n",
       "Name: pyt_2, dtype: float64"
      ]
     },
     "execution_count": 339,
     "metadata": {},
     "output_type": "execute_result"
    }
   ],
   "source": [
    "full_time.describe().drop(['min','max'])"
   ]
  },
  {
   "cell_type": "code",
   "execution_count": 340,
   "metadata": {},
   "outputs": [
    {
     "data": {
      "text/plain": [
       "count    23.000000\n",
       "mean      4.467391\n",
       "std       0.330856\n",
       "25%       4.175000\n",
       "50%       4.500000\n",
       "75%       4.770000\n",
       "Name: pyt_2, dtype: float64"
      ]
     },
     "execution_count": 340,
     "metadata": {},
     "output_type": "execute_result"
    }
   ],
   "source": [
    "part_time.describe().drop(['min','max'])"
   ]
  },
  {
   "cell_type": "code",
   "execution_count": 315,
   "metadata": {},
   "outputs": [
    {
     "data": {
      "image/png": "[encoded data removed]",
      "text/plain": [
       "<Figure size 640x480 with 1 Axes>"
      ]
     },
     "metadata": {},
     "output_type": "display_data"
    }
   ],
   "source": [
    "#counting the number of values in specific categories\n",
    "counts = dataset['pyt_3'].value_counts()\n",
    "\n",
    "\n",
    "#creating a piechart\n",
    "colors = ['#B7E4C7', '#7CCBA2']\n",
    "\n",
    "plt.pie(counts, labels=counts.index.map({1: 'Full time studies', 2: 'Part time studies'}), colors=colors, autopct='%1.1f%%')\n",
    "plt.title('Types of studies Distribution')\n",
    "plt.show()"
   ]
  },
  {
   "cell_type": "code",
   "execution_count": 316,
   "metadata": {},
   "outputs": [
    {
     "data": {
      "text/plain": [
       "ShapiroResult(statistic=0.9620391726493835, pvalue=0.23429501056671143)"
      ]
     },
     "execution_count": 316,
     "metadata": {},
     "output_type": "execute_result"
    }
   ],
   "source": [
    "#testing normal population distribution using Shapiro Test\n",
    "\n",
    "shapiro(full_time)"
   ]
  },
  {
   "attachments": {},
   "cell_type": "markdown",
   "metadata": {},
   "source": [
    "p_value > 0.05 therefore we do not reject the hypothesis of normal distribution"
   ]
  },
  {
   "cell_type": "code",
   "execution_count": 317,
   "metadata": {},
   "outputs": [
    {
     "data": {
      "text/plain": [
       "ShapiroResult(statistic=0.8833879828453064, pvalue=0.011673561297357082)"
      ]
     },
     "execution_count": 317,
     "metadata": {},
     "output_type": "execute_result"
    }
   ],
   "source": [
    "shapiro(part_time)"
   ]
  },
  {
   "attachments": {},
   "cell_type": "markdown",
   "metadata": {},
   "source": [
    "p_value < 0.05 therefore we reject the hypothesis of normal distribution"
   ]
  },
  {
   "attachments": {},
   "cell_type": "markdown",
   "metadata": {},
   "source": [
    "Due to the fact one level of indepenednt varable does not meet the assumption of normal distribution we performed main hypotesis testing using Mann-Whitney U Test"
   ]
  },
  {
   "cell_type": "code",
   "execution_count": 318,
   "metadata": {},
   "outputs": [
    {
     "data": {
      "text/plain": [
       "MannwhitneyuResult(statistic=235.0, pvalue=0.0038388260330176967)"
      ]
     },
     "execution_count": 318,
     "metadata": {},
     "output_type": "execute_result"
    }
   ],
   "source": [
    "mannwhitneyu(full_time,part_time)"
   ]
  },
  {
   "attachments": {},
   "cell_type": "markdown",
   "metadata": {},
   "source": [
    "<p style='color: darkgreen;'>Since the p-value is less than 0.05 hence we would <b> reject the null hypothesis </b>. This implies that we <u> have sufficient proof to say that there exists a difference in the GPA among full time studies and part time studies students</u>.<p/>"
   ]
  },
  {
   "attachments": {},
   "cell_type": "markdown",
   "metadata": {},
   "source": [
    "# The impact of gender on students' grades\n",
    "<hr>"
   ]
  },
  {
   "attachments": {},
   "cell_type": "markdown",
   "metadata": {},
   "source": [
    "<br>Dependent variable: GPA</br>\n",
    "<br>Levels of independent variable: </br>\n",
    "<li> women </li>\n",
    "<li> men </li>\n",
    "<br>\n",
    "<br>Hypotesis: </br>\n",
    "<li>H0: there is no difference among group means </li>\n",
    "<li>H1: is that at least one group differs significantly from the overall mean of the dependent variable </li>\n",
    "<br>\n",
    "<br>\n",
    "On the survey there were 4 responsens for equivalent question about gender:\n",
    "<li>woman</li>\n",
    "<li>man</li>\n",
    "<li>other</li>\n",
    "<li>doesn't matter</li>\n",
    "For the purpose of the analysis we used only 'man' and 'women' resposnes, because the other ones would not be representative (as the quantities are too small)."
   ]
  },
  {
   "cell_type": "code",
   "execution_count": 319,
   "metadata": {},
   "outputs": [
    {
     "data": {
      "text/html": [
       "<div>\n",
       "<style scoped>\n",
       "    .dataframe tbody tr th:only-of-type {\n",
       "        vertical-align: middle;\n",
       "    }\n",
       "\n",
       "    .dataframe tbody tr th {\n",
       "        vertical-align: top;\n",
       "    }\n",
       "\n",
       "    .dataframe thead th {\n",
       "        text-align: right;\n",
       "    }\n",
       "</style>\n",
       "<table border=\"1\" class=\"dataframe\">\n",
       "  <thead>\n",
       "    <tr style=\"text-align: right;\">\n",
       "      <th></th>\n",
       "      <th>pyt_2</th>\n",
       "      <th>M1</th>\n",
       "    </tr>\n",
       "  </thead>\n",
       "  <tbody>\n",
       "    <tr>\n",
       "      <th>0</th>\n",
       "      <td>4.80</td>\n",
       "      <td>2</td>\n",
       "    </tr>\n",
       "    <tr>\n",
       "      <th>1</th>\n",
       "      <td>3.92</td>\n",
       "      <td>2</td>\n",
       "    </tr>\n",
       "    <tr>\n",
       "      <th>2</th>\n",
       "      <td>4.25</td>\n",
       "      <td>2</td>\n",
       "    </tr>\n",
       "    <tr>\n",
       "      <th>3</th>\n",
       "      <td>4.50</td>\n",
       "      <td>2</td>\n",
       "    </tr>\n",
       "    <tr>\n",
       "      <th>4</th>\n",
       "      <td>4.80</td>\n",
       "      <td>2</td>\n",
       "    </tr>\n",
       "  </tbody>\n",
       "</table>\n",
       "</div>"
      ],
      "text/plain": [
       "   pyt_2  M1\n",
       "0   4.80   2\n",
       "1   3.92   2\n",
       "2   4.25   2\n",
       "3   4.50   2\n",
       "4   4.80   2"
      ]
     },
     "execution_count": 319,
     "metadata": {},
     "output_type": "execute_result"
    }
   ],
   "source": [
    "# GPA - pyt_2\n",
    "# gender - M1\n",
    "\n",
    "impact_of_gender = dataset[['pyt_2', 'M1']]\n",
    "impact_of_gender.head()"
   ]
  },
  {
   "cell_type": "code",
   "execution_count": 320,
   "metadata": {},
   "outputs": [],
   "source": [
    "#Creating subsets for levels of independent variable\n",
    "women = dataset.loc[dataset['M1'] == 1, 'pyt_2'].reset_index(drop=True)\n",
    "men= dataset.loc[dataset['M1'] == 2, 'pyt_2'].reset_index(drop=True)\n"
   ]
  },
  {
   "cell_type": "code",
   "execution_count": 342,
   "metadata": {},
   "outputs": [
    {
     "data": {
      "text/plain": [
       "count    15.000000\n",
       "mean      4.366667\n",
       "std       0.559664\n",
       "25%       4.050000\n",
       "50%       4.620000\n",
       "75%       4.750000\n",
       "Name: pyt_2, dtype: float64"
      ]
     },
     "execution_count": 342,
     "metadata": {},
     "output_type": "execute_result"
    }
   ],
   "source": [
    "women.describe().drop(['min','max'])"
   ]
  },
  {
   "cell_type": "code",
   "execution_count": 343,
   "metadata": {},
   "outputs": [
    {
     "data": {
      "text/plain": [
       "count    42.000000\n",
       "mean      4.224048\n",
       "std       0.403938\n",
       "25%       3.932500\n",
       "50%       4.175000\n",
       "75%       4.500000\n",
       "Name: pyt_2, dtype: float64"
      ]
     },
     "execution_count": 343,
     "metadata": {},
     "output_type": "execute_result"
    }
   ],
   "source": [
    "men.describe().drop(['min','max'])"
   ]
  },
  {
   "cell_type": "code",
   "execution_count": 323,
   "metadata": {},
   "outputs": [],
   "source": [
    "#Creating susbet without irrelevant answers for pie chart (only answers 1 (woman) and 2 (man))\n",
    "relevant_gender = dataset[dataset['M1'].isin([1, 2])].reset_index(drop=True)"
   ]
  },
  {
   "cell_type": "code",
   "execution_count": 324,
   "metadata": {},
   "outputs": [
    {
     "data": {
      "image/png": "[encoded data removed]",
      "text/plain": [
       "<Figure size 640x480 with 1 Axes>"
      ]
     },
     "metadata": {},
     "output_type": "display_data"
    }
   ],
   "source": [
    "counts = relevant_gender['M1'].value_counts()\n",
    "\n",
    "colors = ['#B7E4C7', '#7CCBA2']\n",
    "plt.pie(counts, labels=counts.index.map({1: 'Woman', 2: 'Man'}), colors=colors, autopct='%1.1f%%')\n",
    "plt.title('Gender Distribution')\n",
    "plt.show()"
   ]
  },
  {
   "cell_type": "code",
   "execution_count": 325,
   "metadata": {},
   "outputs": [
    {
     "data": {
      "text/plain": [
       "ShapiroResult(statistic=0.8068519830703735, pvalue=0.0045073810033500195)"
      ]
     },
     "execution_count": 325,
     "metadata": {},
     "output_type": "execute_result"
    }
   ],
   "source": [
    "#testing normal population distribution using Shapiro-Wilk Test\n",
    "\n",
    "shapiro(women)"
   ]
  },
  {
   "attachments": {},
   "cell_type": "markdown",
   "metadata": {},
   "source": [
    "p_value < 0.05 therefore we reject the hypothesis of normal distribution"
   ]
  },
  {
   "cell_type": "code",
   "execution_count": 326,
   "metadata": {},
   "outputs": [
    {
     "data": {
      "text/plain": [
       "ShapiroResult(statistic=0.9621137976646423, pvalue=0.17571404576301575)"
      ]
     },
     "execution_count": 326,
     "metadata": {},
     "output_type": "execute_result"
    }
   ],
   "source": [
    "shapiro(men)"
   ]
  },
  {
   "attachments": {},
   "cell_type": "markdown",
   "metadata": {},
   "source": [
    "p_value > 0.05 therefore we do not reject the hypothesis of normal distribution\n",
    "\n",
    "Due to the fact one level of indepenednt varable does not meet the assumption of normal distribution we performed main hypotesis testing using Mann-Whitney U Test"
   ]
  },
  {
   "cell_type": "code",
   "execution_count": 327,
   "metadata": {},
   "outputs": [
    {
     "data": {
      "text/plain": [
       "MannwhitneyuResult(statistic=401.0, pvalue=0.12097630255464942)"
      ]
     },
     "execution_count": 327,
     "metadata": {},
     "output_type": "execute_result"
    }
   ],
   "source": [
    "mannwhitneyu(women,men)"
   ]
  },
  {
   "attachments": {},
   "cell_type": "markdown",
   "metadata": {},
   "source": [
    "<p style='color: darkgreen;'>Since the p-value is more than 0.05 hence we would <b>not reject the null hypothesis </b>. This implies that we <u> do not have sufficient proof to say that there exists a difference in the GPA among female and male students</u>.<p/>\n",
    "\n",
    "It should be considered whether the results are reliable as there is small group of women in sample."
   ]
  },
  {
   "attachments": {},
   "cell_type": "markdown",
   "metadata": {},
   "source": [
    "<H1> Conclusions </h2>\n",
    "<hr>"
   ]
  },
  {
   "attachments": {},
   "cell_type": "markdown",
   "metadata": {},
   "source": [
    "All analyses were performed using the Mann-Whitney U test as non of independent variable met the assumptions crucial for using parametrical tests. \n",
    "The results show that whether a student works or not does not affect their GPA. However, the type of study (part-time or full-time) does have an impact on the GPA, with part-time students achieving slighlty higher grades than full-time students. Lastly, gender does not seem to have a significant effect on GPA."
   ]
  }
 ],
 "metadata": {
  "kernelspec": {
   "display_name": "Python 3",
   "language": "python",
   "name": "python3"
  },
  "language_info": {
   "codemirror_mode": {
    "name": "ipython",
    "version": 3
   },
   "file_extension": ".py",
   "mimetype": "text/x-python",
   "name": "python",
   "nbconvert_exporter": "python",
   "pygments_lexer": "ipython3",
   "version": "3.11.0"
  },
  "orig_nbformat": 4
 },
 "nbformat": 4,
 "nbformat_minor": 2
}
